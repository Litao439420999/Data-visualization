{
 "cells": [
  {
   "cell_type": "markdown",
   "metadata": {},
   "source": [
    "# 4.2 数据格式化\n",
    "\n",
    "在数据计算中应用求均值（mean函数）后，发现结果中的小数位数增加了许多。此时需要对数据进行格式化，以增加数据可读性。如，保留小数位数，百分号、千位分隔符等。\n",
    "\n",
    "\n",
    "## 4.2.1 设置小数位数\n",
    "\n",
    "设置小数位数，主要使用DataFrame对象中的round函数，该函数可以实现四舍五入，而它的decimals参数则用于设置小数的位数，设置后数据类型不会发生变化，依然是浮点型。\n",
    "\n",
    "语法：\n",
    "**DataFrame.round(decimals=0,*args,**  ****kwargs)** \n",
    "\n",
    "* decimals: 每一列四舍五入的小数位数，整型、字典或Series对象。如果是整数，则将每一列四舍五入到相同的位置；否则，将dict和Series舍入到可变数目的位置。如果小数是类似于字典的，那么列名应该在键中；如果小数是级数，列名应该在索引中。没有包含在小数中的任何列都将保持原样，非输入列的小数元素将被忽略。\n",
    "* args: 附加的关键字参数\n",
    "* kwargs: 附加的关键字参数\n",
    "* 返回值： 返回DataFrame对象。"
   ]
  },
  {
   "cell_type": "code",
   "execution_count": 5,
   "metadata": {},
   "outputs": [
    {
     "name": "stdout",
     "output_type": "stream",
     "text": [
      "         A1        A2        A3        A4        A5\n",
      "0  0.824280  0.776118  0.322127  0.779743  0.193635\n",
      "1  0.703388  0.077386  0.421462  0.449983  0.332416\n",
      "2  0.642077  0.321645  0.566401  0.502627  0.078501\n",
      "3  0.548182  0.013079  0.476411  0.387628  0.362283\n",
      "4  0.521940  0.703082  0.158230  0.085805  0.830950\n",
      "     A1    A2    A3    A4    A5\n",
      "0  0.82  0.78  0.32  0.78  0.19\n",
      "1  0.70  0.08  0.42  0.45  0.33\n",
      "2  0.64  0.32  0.57  0.50  0.08\n",
      "3  0.55  0.01  0.48  0.39  0.36\n",
      "4  0.52  0.70  0.16  0.09  0.83\n",
      "    A1    A2        A3        A4        A5\n",
      "0  0.8  0.78  0.322127  0.779743  0.193635\n",
      "1  0.7  0.08  0.421462  0.449983  0.332416\n",
      "2  0.6  0.32  0.566401  0.502627  0.078501\n",
      "3  0.5  0.01  0.476411  0.387628  0.362283\n",
      "4  0.5  0.70  0.158230  0.085805  0.830950\n"
     ]
    }
   ],
   "source": [
    "import pandas as pd\n",
    "import numpy  as np\n",
    "\n",
    "df = pd.DataFrame(np.random.random([5,5]),columns=['A1','A2','A3','A4','A5'])\n",
    "print(df)  \n",
    "print(df.round(2)) #保留小数点后两位\n",
    "print(df.round({'A1':1,'A2':2})) #A1列保留小数点后一位，A2列保留小数点的后两位\n",
    "\n"
   ]
  },
  {
   "cell_type": "code",
   "execution_count": 6,
   "metadata": {},
   "outputs": [
    {
     "name": "stdout",
     "output_type": "stream",
     "text": [
      "    A1   A2    A3        A4        A5\n",
      "0  0.8  1.0  0.32  0.779743  0.193635\n",
      "1  0.7  0.0  0.42  0.449983  0.332416\n",
      "2  0.6  0.0  0.57  0.502627  0.078501\n",
      "3  0.5  0.0  0.48  0.387628  0.362283\n",
      "4  0.5  1.0  0.16  0.085805  0.830950\n"
     ]
    }
   ],
   "source": [
    "s1 = pd.Series([1,0,2],index=['A1','A2','A3'])  #设置Series对象的小数位数\n",
    "print(df.round(s1))"
   ]
  },
  {
   "cell_type": "markdown",
   "metadata": {},
   "source": [
    "保留小数位数也可以用自定义函数，如，将DataFrame对象中的各个浮点值保留两位小数"
   ]
  },
  {
   "cell_type": "code",
   "execution_count": 7,
   "metadata": {},
   "outputs": [
    {
     "data": {
      "text/html": [
       "<div>\n",
       "<style scoped>\n",
       "    .dataframe tbody tr th:only-of-type {\n",
       "        vertical-align: middle;\n",
       "    }\n",
       "\n",
       "    .dataframe tbody tr th {\n",
       "        vertical-align: top;\n",
       "    }\n",
       "\n",
       "    .dataframe thead th {\n",
       "        text-align: right;\n",
       "    }\n",
       "</style>\n",
       "<table border=\"1\" class=\"dataframe\">\n",
       "  <thead>\n",
       "    <tr style=\"text-align: right;\">\n",
       "      <th></th>\n",
       "      <th>A1</th>\n",
       "      <th>A2</th>\n",
       "      <th>A3</th>\n",
       "      <th>A4</th>\n",
       "      <th>A5</th>\n",
       "    </tr>\n",
       "  </thead>\n",
       "  <tbody>\n",
       "    <tr>\n",
       "      <th>0</th>\n",
       "      <td>0.82</td>\n",
       "      <td>0.78</td>\n",
       "      <td>0.32</td>\n",
       "      <td>0.78</td>\n",
       "      <td>0.19</td>\n",
       "    </tr>\n",
       "    <tr>\n",
       "      <th>1</th>\n",
       "      <td>0.70</td>\n",
       "      <td>0.08</td>\n",
       "      <td>0.42</td>\n",
       "      <td>0.45</td>\n",
       "      <td>0.33</td>\n",
       "    </tr>\n",
       "    <tr>\n",
       "      <th>2</th>\n",
       "      <td>0.64</td>\n",
       "      <td>0.32</td>\n",
       "      <td>0.57</td>\n",
       "      <td>0.50</td>\n",
       "      <td>0.08</td>\n",
       "    </tr>\n",
       "    <tr>\n",
       "      <th>3</th>\n",
       "      <td>0.55</td>\n",
       "      <td>0.01</td>\n",
       "      <td>0.48</td>\n",
       "      <td>0.39</td>\n",
       "      <td>0.36</td>\n",
       "    </tr>\n",
       "    <tr>\n",
       "      <th>4</th>\n",
       "      <td>0.52</td>\n",
       "      <td>0.70</td>\n",
       "      <td>0.16</td>\n",
       "      <td>0.09</td>\n",
       "      <td>0.83</td>\n",
       "    </tr>\n",
       "  </tbody>\n",
       "</table>\n",
       "</div>"
      ],
      "text/plain": [
       "     A1    A2    A3    A4    A5\n",
       "0  0.82  0.78  0.32  0.78  0.19\n",
       "1  0.70  0.08  0.42  0.45  0.33\n",
       "2  0.64  0.32  0.57  0.50  0.08\n",
       "3  0.55  0.01  0.48  0.39  0.36\n",
       "4  0.52  0.70  0.16  0.09  0.83"
      ]
     },
     "execution_count": 7,
     "metadata": {},
     "output_type": "execute_result"
    }
   ],
   "source": [
    "df.applymap(lambda x: '%.2f'%x)"
   ]
  },
  {
   "cell_type": "markdown",
   "metadata": {},
   "source": [
    "注意： 经过自定义函数处理后数据将不再是浮点型而是对象型，如果后续计算则首先应该将数据类型进行转换。"
   ]
  },
  {
   "cell_type": "markdown",
   "metadata": {},
   "source": [
    "##  4.2.2 设置百分比\n",
    "\n",
    "利用字定义函数将数据进行格式处理，处理后的数据就可以从浮点型转换成带指定小数位数的百分比数据，主要使用apply函数和format函数。\n"
   ]
  },
  {
   "cell_type": "code",
   "execution_count": 13,
   "metadata": {},
   "outputs": [
    {
     "data": {
      "text/html": [
       "<div>\n",
       "<style scoped>\n",
       "    .dataframe tbody tr th:only-of-type {\n",
       "        vertical-align: middle;\n",
       "    }\n",
       "\n",
       "    .dataframe tbody tr th {\n",
       "        vertical-align: top;\n",
       "    }\n",
       "\n",
       "    .dataframe thead th {\n",
       "        text-align: right;\n",
       "    }\n",
       "</style>\n",
       "<table border=\"1\" class=\"dataframe\">\n",
       "  <thead>\n",
       "    <tr style=\"text-align: right;\">\n",
       "      <th></th>\n",
       "      <th>A1</th>\n",
       "      <th>A2</th>\n",
       "      <th>A3</th>\n",
       "      <th>A4</th>\n",
       "      <th>A5</th>\n",
       "      <th>百分比</th>\n",
       "    </tr>\n",
       "  </thead>\n",
       "  <tbody>\n",
       "    <tr>\n",
       "      <th>0</th>\n",
       "      <td>0.954851</td>\n",
       "      <td>0.229141</td>\n",
       "      <td>0.946658</td>\n",
       "      <td>0.263225</td>\n",
       "      <td>0.644966</td>\n",
       "      <td>95%</td>\n",
       "    </tr>\n",
       "    <tr>\n",
       "      <th>1</th>\n",
       "      <td>0.062135</td>\n",
       "      <td>0.230992</td>\n",
       "      <td>0.581908</td>\n",
       "      <td>0.343151</td>\n",
       "      <td>0.568561</td>\n",
       "      <td>58%</td>\n",
       "    </tr>\n",
       "    <tr>\n",
       "      <th>2</th>\n",
       "      <td>0.836021</td>\n",
       "      <td>0.653030</td>\n",
       "      <td>0.749556</td>\n",
       "      <td>0.010234</td>\n",
       "      <td>0.881066</td>\n",
       "      <td>75%</td>\n",
       "    </tr>\n",
       "    <tr>\n",
       "      <th>3</th>\n",
       "      <td>0.725784</td>\n",
       "      <td>0.409120</td>\n",
       "      <td>0.166953</td>\n",
       "      <td>0.517864</td>\n",
       "      <td>0.587144</td>\n",
       "      <td>17%</td>\n",
       "    </tr>\n",
       "    <tr>\n",
       "      <th>4</th>\n",
       "      <td>0.464563</td>\n",
       "      <td>0.680571</td>\n",
       "      <td>0.807811</td>\n",
       "      <td>0.865758</td>\n",
       "      <td>0.887963</td>\n",
       "      <td>81%</td>\n",
       "    </tr>\n",
       "  </tbody>\n",
       "</table>\n",
       "</div>"
      ],
      "text/plain": [
       "         A1        A2        A3        A4        A5  百分比\n",
       "0  0.954851  0.229141  0.946658  0.263225  0.644966  95%\n",
       "1  0.062135  0.230992  0.581908  0.343151  0.568561  58%\n",
       "2  0.836021  0.653030  0.749556  0.010234  0.881066  75%\n",
       "3  0.725784  0.409120  0.166953  0.517864  0.587144  17%\n",
       "4  0.464563  0.680571  0.807811  0.865758  0.887963  81%"
      ]
     },
     "execution_count": 13,
     "metadata": {},
     "output_type": "execute_result"
    }
   ],
   "source": [
    "import pandas as pd\n",
    "import numpy as np\n",
    "df = pd.DataFrame(np.random.random([5,5]),columns=['A1','A2','A3','A4','A5'])\n",
    "df['百分比'] = df['A3'].apply(lambda x:format(x,'.0%')) # 整列保留0位小数\n",
    "df\n"
   ]
  },
  {
   "cell_type": "code",
   "execution_count": 14,
   "metadata": {},
   "outputs": [
    {
     "data": {
      "text/html": [
       "<div>\n",
       "<style scoped>\n",
       "    .dataframe tbody tr th:only-of-type {\n",
       "        vertical-align: middle;\n",
       "    }\n",
       "\n",
       "    .dataframe tbody tr th {\n",
       "        vertical-align: top;\n",
       "    }\n",
       "\n",
       "    .dataframe thead th {\n",
       "        text-align: right;\n",
       "    }\n",
       "</style>\n",
       "<table border=\"1\" class=\"dataframe\">\n",
       "  <thead>\n",
       "    <tr style=\"text-align: right;\">\n",
       "      <th></th>\n",
       "      <th>A1</th>\n",
       "      <th>A2</th>\n",
       "      <th>A3</th>\n",
       "      <th>A4</th>\n",
       "      <th>A5</th>\n",
       "      <th>百分比</th>\n",
       "    </tr>\n",
       "  </thead>\n",
       "  <tbody>\n",
       "    <tr>\n",
       "      <th>0</th>\n",
       "      <td>0.954851</td>\n",
       "      <td>0.229141</td>\n",
       "      <td>0.946658</td>\n",
       "      <td>0.263225</td>\n",
       "      <td>0.644966</td>\n",
       "      <td>94.67%</td>\n",
       "    </tr>\n",
       "    <tr>\n",
       "      <th>1</th>\n",
       "      <td>0.062135</td>\n",
       "      <td>0.230992</td>\n",
       "      <td>0.581908</td>\n",
       "      <td>0.343151</td>\n",
       "      <td>0.568561</td>\n",
       "      <td>58.19%</td>\n",
       "    </tr>\n",
       "    <tr>\n",
       "      <th>2</th>\n",
       "      <td>0.836021</td>\n",
       "      <td>0.653030</td>\n",
       "      <td>0.749556</td>\n",
       "      <td>0.010234</td>\n",
       "      <td>0.881066</td>\n",
       "      <td>74.96%</td>\n",
       "    </tr>\n",
       "    <tr>\n",
       "      <th>3</th>\n",
       "      <td>0.725784</td>\n",
       "      <td>0.409120</td>\n",
       "      <td>0.166953</td>\n",
       "      <td>0.517864</td>\n",
       "      <td>0.587144</td>\n",
       "      <td>16.70%</td>\n",
       "    </tr>\n",
       "    <tr>\n",
       "      <th>4</th>\n",
       "      <td>0.464563</td>\n",
       "      <td>0.680571</td>\n",
       "      <td>0.807811</td>\n",
       "      <td>0.865758</td>\n",
       "      <td>0.887963</td>\n",
       "      <td>80.78%</td>\n",
       "    </tr>\n",
       "  </tbody>\n",
       "</table>\n",
       "</div>"
      ],
      "text/plain": [
       "         A1        A2        A3        A4        A5     百分比\n",
       "0  0.954851  0.229141  0.946658  0.263225  0.644966  94.67%\n",
       "1  0.062135  0.230992  0.581908  0.343151  0.568561  58.19%\n",
       "2  0.836021  0.653030  0.749556  0.010234  0.881066  74.96%\n",
       "3  0.725784  0.409120  0.166953  0.517864  0.587144  16.70%\n",
       "4  0.464563  0.680571  0.807811  0.865758  0.887963  80.78%"
      ]
     },
     "execution_count": 14,
     "metadata": {},
     "output_type": "execute_result"
    }
   ],
   "source": [
    "df['百分比'] = df['A3'].apply(lambda x:format(x,'.2%')) # 整列保留0位小数\n",
    "df\n"
   ]
  },
  {
   "cell_type": "code",
   "execution_count": 15,
   "metadata": {},
   "outputs": [
    {
     "data": {
      "text/html": [
       "<div>\n",
       "<style scoped>\n",
       "    .dataframe tbody tr th:only-of-type {\n",
       "        vertical-align: middle;\n",
       "    }\n",
       "\n",
       "    .dataframe tbody tr th {\n",
       "        vertical-align: top;\n",
       "    }\n",
       "\n",
       "    .dataframe thead th {\n",
       "        text-align: right;\n",
       "    }\n",
       "</style>\n",
       "<table border=\"1\" class=\"dataframe\">\n",
       "  <thead>\n",
       "    <tr style=\"text-align: right;\">\n",
       "      <th></th>\n",
       "      <th>A1</th>\n",
       "      <th>A2</th>\n",
       "      <th>A3</th>\n",
       "      <th>A4</th>\n",
       "      <th>A5</th>\n",
       "      <th>百分比</th>\n",
       "    </tr>\n",
       "  </thead>\n",
       "  <tbody>\n",
       "    <tr>\n",
       "      <th>0</th>\n",
       "      <td>0.954851</td>\n",
       "      <td>0.229141</td>\n",
       "      <td>0.946658</td>\n",
       "      <td>0.263225</td>\n",
       "      <td>0.644966</td>\n",
       "      <td>95%</td>\n",
       "    </tr>\n",
       "    <tr>\n",
       "      <th>1</th>\n",
       "      <td>0.062135</td>\n",
       "      <td>0.230992</td>\n",
       "      <td>0.581908</td>\n",
       "      <td>0.343151</td>\n",
       "      <td>0.568561</td>\n",
       "      <td>58%</td>\n",
       "    </tr>\n",
       "    <tr>\n",
       "      <th>2</th>\n",
       "      <td>0.836021</td>\n",
       "      <td>0.653030</td>\n",
       "      <td>0.749556</td>\n",
       "      <td>0.010234</td>\n",
       "      <td>0.881066</td>\n",
       "      <td>75%</td>\n",
       "    </tr>\n",
       "    <tr>\n",
       "      <th>3</th>\n",
       "      <td>0.725784</td>\n",
       "      <td>0.409120</td>\n",
       "      <td>0.166953</td>\n",
       "      <td>0.517864</td>\n",
       "      <td>0.587144</td>\n",
       "      <td>17%</td>\n",
       "    </tr>\n",
       "    <tr>\n",
       "      <th>4</th>\n",
       "      <td>0.464563</td>\n",
       "      <td>0.680571</td>\n",
       "      <td>0.807811</td>\n",
       "      <td>0.865758</td>\n",
       "      <td>0.887963</td>\n",
       "      <td>81%</td>\n",
       "    </tr>\n",
       "  </tbody>\n",
       "</table>\n",
       "</div>"
      ],
      "text/plain": [
       "         A1        A2        A3        A4        A5  百分比\n",
       "0  0.954851  0.229141  0.946658  0.263225  0.644966  95%\n",
       "1  0.062135  0.230992  0.581908  0.343151  0.568561  58%\n",
       "2  0.836021  0.653030  0.749556  0.010234  0.881066  75%\n",
       "3  0.725784  0.409120  0.166953  0.517864  0.587144  17%\n",
       "4  0.464563  0.680571  0.807811  0.865758  0.887963  81%"
      ]
     },
     "execution_count": 15,
     "metadata": {},
     "output_type": "execute_result"
    }
   ],
   "source": [
    "df['百分比'] = df['A3'].map(lambda x:'{:.0%}'.format(x)) #使用map函数整列保留0位小数\n",
    "df"
   ]
  },
  {
   "cell_type": "markdown",
   "metadata": {},
   "source": [
    "## 4.2.4 设置千位分隔符\n",
    "\n"
   ]
  },
  {
   "cell_type": "code",
   "execution_count": 18,
   "metadata": {},
   "outputs": [
    {
     "name": "stdout",
     "output_type": "stream",
     "text": [
      "           图书  月份          码洋\n",
      "0  零基础学python  1月  49,768,889\n",
      "1  零基础学python  2月  11,777,775\n",
      "2  零基础学python  3月  13,799,795\n"
     ]
    }
   ],
   "source": [
    "import pandas as pd\n",
    "data = [['零基础学python','1月',49768889],['零基础学python','2月',11777775],['零基础学python','3月',13799795]]\n",
    "columns = ['图书','月份','码洋']\n",
    "df = pd.DataFrame(data=data,columns=columns)\n",
    "df['码洋'] = df['码洋'].apply(lambda x:format(int(x),','))\n",
    "print(df)"
   ]
  },
  {
   "cell_type": "markdown",
   "metadata": {},
   "source": [
    "注意：\n",
    "设置千位分隔符后，对于程序来说，这些数据将不再是数值型，而是数字和逗号组成的字符串。如果由于程序需要再变成数值型就会很麻烦，因此设置千位分隔符要慎重。"
   ]
  },
  {
   "cell_type": "code",
   "execution_count": null,
   "metadata": {},
   "outputs": [],
   "source": []
  }
 ],
 "metadata": {
  "kernelspec": {
   "display_name": "Python 3",
   "language": "python",
   "name": "python3"
  },
  "language_info": {
   "codemirror_mode": {
    "name": "ipython",
    "version": 3
   },
   "file_extension": ".py",
   "mimetype": "text/x-python",
   "name": "python",
   "nbconvert_exporter": "python",
   "pygments_lexer": "ipython3",
   "version": "3.7.1"
  }
 },
 "nbformat": 4,
 "nbformat_minor": 2
}
