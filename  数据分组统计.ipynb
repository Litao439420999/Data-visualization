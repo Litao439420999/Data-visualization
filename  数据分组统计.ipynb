{
 "cells": [
  {
   "cell_type": "markdown",
   "metadata": {},
   "source": [
    "# 4.3 数据分组统计\n",
    "\n",
    "本节介绍分组统计函数groupby的各种应用。"
   ]
  },
  {
   "cell_type": "markdown",
   "metadata": {},
   "source": [
    "## 3.1 分组统计groupby函数\n",
    "\n",
    "对数据进行分组统计，主要使用DataFrame对象的groupby函数，其功能呢如下：\n",
    "\n",
    "* （1）根据给定的条件将数据拆分成组。\n",
    "* （2）每个组都可以独立应用函数（如求和函数（sum）、求平均值函数(mean）等）。\n",
    "* （3）将结果合并到一个数据结构中。\n",
    "\n",
    "groupby函数用于将数据按照一列或多列进行分组，一般与计算函数结合使用，实现数据的分组统计，语法如下：\n",
    "\n"
   ]
  },
  {
   "cell_type": "markdown",
   "metadata": {},
   "source": [
    "**DataFrame.groupby(by=None, axis=0, level=None, as_index=True, sort=True, group_keys=True, squeeze=False, observed=False)**\n",
    "\n",
    "**参数如下**\n",
    "* by:映射、字典或Series对象、数组、标签列表。如果by是一个函数，则对象索引的每个值调用它。如果传递了一个字典或Series对象，则使用该字典或Series对象值来确定组。如果传递了数组ndarray，则按原样使用这些值来确定组。\n",
    "\n",
    "* axis: axis=1表示行，axis=0表示列，默认值为0。\n",
    "\n",
    "* level: 表示索引层级，默认无。\n",
    "\n",
    "* as_index: 布尔型，默认为True，返回以组标签为索引对象。\n",
    "\n",
    "* sort: 对组进行排序，布尔型，默认值True\n",
    "\n",
    "* squeeze:布尔型,默认为False，如果可能，减少返回类型的维度，否则返回一致类型。\n",
    "\n",
    "* group_keys:布尔型，默认为True,调用apply函数时，将分组的键添加到索引以标识片段。\n",
    "\n",
    "* 返回值： DataFrameGroupBy ,返回包含有关组的信息的groupby对象。\n"
   ]
  },
  {
   "cell_type": "markdown",
   "metadata": {},
   "source": [
    "### 3.1.1 按照一列分组统计\n"
   ]
  },
  {
   "cell_type": "code",
   "execution_count": 2,
   "metadata": {},
   "outputs": [
    {
     "name": "stdout",
     "output_type": "stream",
     "text": [
      "                    7天点击量  订单预定\n",
      "一级分类                               \n",
      "数据库                    186        15\n",
      "移动开发                  261         7\n",
      "编程语言与程序设计       4280       192\n",
      "网页制作/Web技术          345        15\n"
     ]
    }
   ],
   "source": [
    "import pandas as pd\n",
    "\n",
    "pd.set_option('display.max_columns',500)\n",
    "pd.set_option('display.width',1000)\n",
    "\n",
    "pd.set_option('display.unicode.east_asian_width',True)\n",
    "df = pd.read_csv('JD.csv',encoding='gbk')\n",
    "\n",
    "df1 = df[['一级分类','7天点击量','订单预定']] # 抽取数据\n",
    "print(df1.groupby('一级分类').sum()) # 分组统计求和"
   ]
  },
  {
   "cell_type": "code",
   "execution_count": 7,
   "metadata": {},
   "outputs": [
    {
     "name": "stdout",
     "output_type": "stream",
     "text": [
      "              7天点击量  订单预定\n",
      "二级分类                         \n",
      "ASP.NET              87         2\n",
      "Android             261         7\n",
      "C#                  314        12\n",
      "C++/C语言           724        28\n",
      "HTML                188         8\n",
      "JSP/JavaWeb         157         1\n",
      "Java                408        16\n",
      "JavaScript          100         7\n",
      "Oracle               58         2\n",
      "PHP                 113         1\n",
      "Python             2449       132\n",
      "SQL                 128        13\n",
      "Visual Basic         28         0\n",
      "WEB前端              57         0\n"
     ]
    }
   ],
   "source": [
    "import pandas as pd\n",
    "\n",
    "pd.set_option('display.max_columns',500)\n",
    "pd.set_option('display.width',1000)\n",
    "\n",
    "pd.set_option('display.unicode.east_asian_width',True)\n",
    "df = pd.read_csv('JD.csv',encoding='gbk') # 注意这里，因为列标签名称有中文，必须设置encoding='gbk'\n",
    "\n",
    "df1 = df[['二级分类','7天点击量','订单预定']] # 抽取数据\n",
    "print(df1.groupby('二级分类').sum()) # 分组统计求和"
   ]
  },
  {
   "cell_type": "markdown",
   "metadata": {},
   "source": [
    "### 3.1.2 按照多列分组统计\n",
    "\n",
    "多列分组统计，以列表形式指定列"
   ]
  },
  {
   "cell_type": "code",
   "execution_count": 8,
   "metadata": {},
   "outputs": [
    {
     "name": "stdout",
     "output_type": "stream",
     "text": [
      "                                 7天点击量  订单预定\n",
      "一级分类           二级分类                         \n",
      "数据库             Oracle               58         2\n",
      "                   SQL                 128        13\n",
      "移动开发           Android             261         7\n",
      "编程语言与程序设计 ASP.NET              87         2\n",
      "                   C#                  314        12\n",
      "                   C++/C语言           724        28\n",
      "                   JSP/JavaWeb         157         1\n",
      "                   Java                408        16\n",
      "                   PHP                 113         1\n",
      "                   Python             2449       132\n",
      "                   Visual Basic         28         0\n",
      "网页制作/Web技术   HTML                188         8\n",
      "                   JavaScript          100         7\n",
      "                   WEB前端              57         0\n"
     ]
    }
   ],
   "source": [
    "import pandas as pd\n",
    "\n",
    "pd.set_option('display.max_columns',500)\n",
    "pd.set_option('display.width',1000)\n",
    "\n",
    "pd.set_option('display.unicode.east_asian_width',True)\n",
    "df = pd.read_csv('JD.csv',encoding='gbk') # 注意这里，因为列标签名称有中文，必须设置encoding='gbk'\n",
    "\n",
    "df1 = df[['一级分类','二级分类','7天点击量','订单预定']]\n",
    "print(df1.groupby(['一级分类','二级分类']).sum())"
   ]
  },
  {
   "cell_type": "markdown",
   "metadata": {},
   "source": [
    "### 3.1.3 分组并指定列进行数据计算\n",
    "\n"
   ]
  },
  {
   "cell_type": "code",
   "execution_count": 9,
   "metadata": {},
   "outputs": [
    {
     "name": "stdout",
     "output_type": "stream",
     "text": [
      "二级分类\n",
      "ASP.NET           87\n",
      "Android          261\n",
      "C#               314\n",
      "C++/C语言        724\n",
      "HTML             188\n",
      "JSP/JavaWeb      157\n",
      "Java             408\n",
      "JavaScript       100\n",
      "Oracle            58\n",
      "PHP              113\n",
      "Python          2449\n",
      "SQL              128\n",
      "Visual Basic      28\n",
      "WEB前端           57\n",
      "Name: 7天点击量, dtype: int64\n"
     ]
    }
   ],
   "source": [
    "import pandas as pd\n",
    "\n",
    "pd.set_option('display.max_columns',500)\n",
    "pd.set_option('display.width',1000)\n",
    "\n",
    "pd.set_option('display.unicode.east_asian_width',True)\n",
    "df = pd.read_csv('JD.csv',encoding='gbk') # 注意这里，因为列标签名称有中文，必须设置encoding='gbk'\n",
    "\n",
    "df1 = df[['二级分类','7天点击量','订单预定']]\n",
    "print(df1.groupby('二级分类')['7天点击量'].sum())"
   ]
  },
  {
   "cell_type": "code",
   "execution_count": 11,
   "metadata": {},
   "outputs": [
    {
     "name": "stdout",
     "output_type": "stream",
     "text": [
      "二级分类\n",
      "ASP.NET           2\n",
      "Android           7\n",
      "C#               12\n",
      "C++/C语言        28\n",
      "HTML              8\n",
      "JSP/JavaWeb       1\n",
      "Java             16\n",
      "JavaScript        7\n",
      "Oracle            2\n",
      "PHP               1\n",
      "Python          132\n",
      "SQL              13\n",
      "Visual Basic      0\n",
      "WEB前端           0\n",
      "Name: 订单预定, dtype: int64\n"
     ]
    }
   ],
   "source": [
    "import pandas as pd\n",
    "\n",
    "pd.set_option('display.max_columns',500)\n",
    "pd.set_option('display.width',1000)\n",
    "\n",
    "pd.set_option('display.unicode.east_asian_width',True)\n",
    "df = pd.read_csv('JD.csv',encoding='gbk') # 注意这里，因为列标签名称有中文，必须设置encoding='gbk'\n",
    "\n",
    "df1 = df[['二级分类','7天点击量','订单预定']]\n",
    "print(df1.groupby('二级分类')['订单预定'].sum())"
   ]
  },
  {
   "cell_type": "markdown",
   "metadata": {},
   "source": [
    "## 4.3.2  分组并指定列进行数据计算\n",
    "\n",
    "通过for循环对分组统计数据进行迭代（遍历分组数据）。"
   ]
  },
  {
   "cell_type": "code",
   "execution_count": 13,
   "metadata": {},
   "outputs": [
    {
     "name": "stdout",
     "output_type": "stream",
     "text": [
      "   一级分类  7天点击量  订单预定\n",
      "25   数据库         58         2\n",
      "27   数据库        128        13\n",
      "    一级分类  7天点击量  订单预定\n",
      "10  移动开发         85         4\n",
      "19  移动开发         32         1\n",
      "24  移动开发         85         2\n",
      "28  移动开发         59         0\n",
      "              一级分类  7天点击量  订单预定\n",
      "0   编程语言与程序设计         35         1\n",
      "1   编程语言与程序设计         49         0\n",
      "2   编程语言与程序设计         51         2\n",
      "3   编程语言与程序设计         64         1\n",
      "4   编程语言与程序设计         26         0\n",
      "5   编程语言与程序设计         60         1\n",
      "6   编程语言与程序设计        227        11\n",
      "8   编程语言与程序设计        122         3\n",
      "9   编程语言与程序设计        111         5\n",
      "11  编程语言与程序设计        165         5\n",
      "12  编程语言与程序设计        131         1\n",
      "13  编程语言与程序设计        149        10\n",
      "15  编程语言与程序设计       1139        79\n",
      "16  编程语言与程序设计        125         1\n",
      "18  编程语言与程序设计        149         4\n",
      "20  编程语言与程序设计         52         1\n",
      "21  编程语言与程序设计        597        25\n",
      "22  编程语言与程序设计        474        15\n",
      "23  编程语言与程序设计         83         3\n",
      "26  编程语言与程序设计        132         8\n",
      "29  编程语言与程序设计         27         2\n",
      "30  编程语言与程序设计        239        13\n",
      "31  编程语言与程序设计         45         1\n",
      "32  编程语言与程序设计         28         0\n",
      "            一级分类  7天点击量  订单预定\n",
      "7   网页制作/Web技术        100         7\n",
      "14  网页制作/Web技术        188         8\n",
      "17  网页制作/Web技术         57         0\n"
     ]
    }
   ],
   "source": [
    "import pandas as pd\n",
    "\n",
    "pd.set_option('display.max_columns',500)\n",
    "pd.set_option('display.width',1000)\n",
    "\n",
    "pd.set_option('display.unicode.east_asian_width',True)\n",
    "df = pd.read_csv('JD.csv',encoding='gbk') # 注意这里，因为列标签名称有中文，必须设置encoding='gbk'\n",
    "\n",
    "df1 = df[['一级分类','7天点击量','订单预定']]\n",
    "for name,group in df1.groupby('一级分类'):\n",
    "    #print(name)  #name是groupby('一级分类')的值；group是分组后的数据。如果groupby对多列进行分组，那么需要在for循环中指定多列。\n",
    "    print(group)"
   ]
  },
  {
   "cell_type": "markdown",
   "metadata": {},
   "source": [
    "**name是groupby('一级分类')的值；group是分组后的数据。如果groupby对多列进行分组，那么需要在for循环中指定多列。**"
   ]
  },
  {
   "cell_type": "code",
   "execution_count": 18,
   "metadata": {},
   "outputs": [
    {
     "name": "stdout",
     "output_type": "stream",
     "text": [
      "('数据库', 'Oracle')\n",
      "   一级分类 二级分类  7天点击量  订单预定\n",
      "25   数据库   Oracle         58         2\n",
      "('数据库', 'SQL')\n",
      "   一级分类 二级分类  7天点击量  订单预定\n",
      "27   数据库      SQL        128        13\n",
      "('移动开发', 'Android')\n",
      "    一级分类 二级分类  7天点击量  订单预定\n",
      "10  移动开发  Android         85         4\n",
      "19  移动开发  Android         32         1\n",
      "24  移动开发  Android         85         2\n",
      "28  移动开发  Android         59         0\n",
      "('编程语言与程序设计', 'ASP.NET')\n",
      "              一级分类 二级分类  7天点击量  订单预定\n",
      "0   编程语言与程序设计  ASP.NET         35         1\n",
      "20  编程语言与程序设计  ASP.NET         52         1\n",
      "('编程语言与程序设计', 'C#')\n",
      "              一级分类 二级分类  7天点击量  订单预定\n",
      "5   编程语言与程序设计       C#         60         1\n",
      "8   编程语言与程序设计       C#        122         3\n",
      "26  编程语言与程序设计       C#        132         8\n",
      "('编程语言与程序设计', 'C++/C语言')\n",
      "              一级分类   二级分类  7天点击量  订单预定\n",
      "6   编程语言与程序设计  C++/C语言        227        11\n",
      "9   编程语言与程序设计  C++/C语言        111         5\n",
      "11  编程语言与程序设计  C++/C语言        165         5\n",
      "18  编程语言与程序设计  C++/C语言        149         4\n",
      "29  编程语言与程序设计  C++/C语言         27         2\n",
      "31  编程语言与程序设计  C++/C语言         45         1\n",
      "('编程语言与程序设计', 'JSP/JavaWeb')\n",
      "              一级分类     二级分类  7天点击量  订单预定\n",
      "4   编程语言与程序设计  JSP/JavaWeb         26         0\n",
      "12  编程语言与程序设计  JSP/JavaWeb        131         1\n",
      "('编程语言与程序设计', 'Java')\n",
      "              一级分类 二级分类  7天点击量  订单预定\n",
      "2   编程语言与程序设计     Java         51         2\n",
      "13  编程语言与程序设计     Java        149        10\n",
      "16  编程语言与程序设计     Java        125         1\n",
      "23  编程语言与程序设计     Java         83         3\n",
      "('编程语言与程序设计', 'PHP')\n",
      "             一级分类 二级分类  7天点击量  订单预定\n",
      "1  编程语言与程序设计      PHP         49         0\n",
      "3  编程语言与程序设计      PHP         64         1\n",
      "('编程语言与程序设计', 'Python')\n",
      "              一级分类 二级分类  7天点击量  订单预定\n",
      "15  编程语言与程序设计   Python       1139        79\n",
      "21  编程语言与程序设计   Python        597        25\n",
      "22  编程语言与程序设计   Python        474        15\n",
      "30  编程语言与程序设计   Python        239        13\n",
      "('编程语言与程序设计', 'Visual Basic')\n",
      "              一级分类      二级分类  7天点击量  订单预定\n",
      "32  编程语言与程序设计  Visual Basic         28         0\n",
      "('网页制作/Web技术', 'HTML')\n",
      "            一级分类 二级分类  7天点击量  订单预定\n",
      "14  网页制作/Web技术     HTML        188         8\n",
      "('网页制作/Web技术', 'JavaScript')\n",
      "           一级分类    二级分类  7天点击量  订单预定\n",
      "7  网页制作/Web技术  JavaScript        100         7\n",
      "('网页制作/Web技术', 'WEB前端')\n",
      "            一级分类 二级分类  7天点击量  订单预定\n",
      "17  网页制作/Web技术  WEB前端         57         0\n"
     ]
    }
   ],
   "source": [
    "import pandas as pd\n",
    "\n",
    "pd.set_option('display.max_columns',500)\n",
    "pd.set_option('display.width',1000)\n",
    "\n",
    "pd.set_option('display.unicode.east_asian_width',True)\n",
    "df = pd.read_csv('JD.csv',encoding='gbk') # 注意这里，因为列标签名称有中文，必须设置encoding='gbk'\n",
    "\n",
    "df1 = df[['一级分类','二级分类','7天点击量','订单预定']]\n",
    "for name,group in df1.groupby(['一级分类','二级分类']):\n",
    "    print(name) \n",
    "    #print(name[1])\n",
    "    print(group)"
   ]
  },
  {
   "cell_type": "code",
   "execution_count": 19,
   "metadata": {},
   "outputs": [
    {
     "name": "stdout",
     "output_type": "stream",
     "text": [
      "数据库 Oracle\n",
      "   一级分类 二级分类  7天点击量  订单预定\n",
      "25   数据库   Oracle         58         2\n",
      "数据库 SQL\n",
      "   一级分类 二级分类  7天点击量  订单预定\n",
      "27   数据库      SQL        128        13\n",
      "移动开发 Android\n",
      "    一级分类 二级分类  7天点击量  订单预定\n",
      "10  移动开发  Android         85         4\n",
      "19  移动开发  Android         32         1\n",
      "24  移动开发  Android         85         2\n",
      "28  移动开发  Android         59         0\n",
      "编程语言与程序设计 ASP.NET\n",
      "              一级分类 二级分类  7天点击量  订单预定\n",
      "0   编程语言与程序设计  ASP.NET         35         1\n",
      "20  编程语言与程序设计  ASP.NET         52         1\n",
      "编程语言与程序设计 C#\n",
      "              一级分类 二级分类  7天点击量  订单预定\n",
      "5   编程语言与程序设计       C#         60         1\n",
      "8   编程语言与程序设计       C#        122         3\n",
      "26  编程语言与程序设计       C#        132         8\n",
      "编程语言与程序设计 C++/C语言\n",
      "              一级分类   二级分类  7天点击量  订单预定\n",
      "6   编程语言与程序设计  C++/C语言        227        11\n",
      "9   编程语言与程序设计  C++/C语言        111         5\n",
      "11  编程语言与程序设计  C++/C语言        165         5\n",
      "18  编程语言与程序设计  C++/C语言        149         4\n",
      "29  编程语言与程序设计  C++/C语言         27         2\n",
      "31  编程语言与程序设计  C++/C语言         45         1\n",
      "编程语言与程序设计 JSP/JavaWeb\n",
      "              一级分类     二级分类  7天点击量  订单预定\n",
      "4   编程语言与程序设计  JSP/JavaWeb         26         0\n",
      "12  编程语言与程序设计  JSP/JavaWeb        131         1\n",
      "编程语言与程序设计 Java\n",
      "              一级分类 二级分类  7天点击量  订单预定\n",
      "2   编程语言与程序设计     Java         51         2\n",
      "13  编程语言与程序设计     Java        149        10\n",
      "16  编程语言与程序设计     Java        125         1\n",
      "23  编程语言与程序设计     Java         83         3\n",
      "编程语言与程序设计 PHP\n",
      "             一级分类 二级分类  7天点击量  订单预定\n",
      "1  编程语言与程序设计      PHP         49         0\n",
      "3  编程语言与程序设计      PHP         64         1\n",
      "编程语言与程序设计 Python\n",
      "              一级分类 二级分类  7天点击量  订单预定\n",
      "15  编程语言与程序设计   Python       1139        79\n",
      "21  编程语言与程序设计   Python        597        25\n",
      "22  编程语言与程序设计   Python        474        15\n",
      "30  编程语言与程序设计   Python        239        13\n",
      "编程语言与程序设计 Visual Basic\n",
      "              一级分类      二级分类  7天点击量  订单预定\n",
      "32  编程语言与程序设计  Visual Basic         28         0\n",
      "网页制作/Web技术 HTML\n",
      "            一级分类 二级分类  7天点击量  订单预定\n",
      "14  网页制作/Web技术     HTML        188         8\n",
      "网页制作/Web技术 JavaScript\n",
      "           一级分类    二级分类  7天点击量  订单预定\n",
      "7  网页制作/Web技术  JavaScript        100         7\n",
      "网页制作/Web技术 WEB前端\n",
      "            一级分类 二级分类  7天点击量  订单预定\n",
      "17  网页制作/Web技术  WEB前端         57         0\n"
     ]
    }
   ],
   "source": [
    "import pandas as pd\n",
    "\n",
    "pd.set_option('display.max_columns',500)\n",
    "pd.set_option('display.width',1000)\n",
    "\n",
    "pd.set_option('display.unicode.east_asian_width',True)\n",
    "df = pd.read_csv('JD.csv',encoding='gbk') # 注意这里，因为列标签名称有中文，必须设置encoding='gbk'\n",
    "\n",
    "df1 = df[['一级分类','二级分类','7天点击量','订单预定']]\n",
    "for (key1,key2),group in df1.groupby(['一级分类','二级分类']):\n",
    "    print(key1,key2) \n",
    "    #print(name[1])\n",
    "    print(group)"
   ]
  },
  {
   "cell_type": "markdown",
   "metadata": {},
   "source": [
    "### 4.3.3 对分组的某列或多列使用聚合函数(agg函数)\n",
    "\n",
    "Python也可以实现像SQL中的分组聚合运算操作，主要通过groupby函数与agg函数实现。"
   ]
  },
  {
   "cell_type": "code",
   "execution_count": 20,
   "metadata": {},
   "outputs": [
    {
     "name": "stdout",
     "output_type": "stream",
     "text": [
      "                   7天点击量             订单预定      \n",
      "                         sum        mean      sum  mean\n",
      "一级分类                                               \n",
      "数据库                   186   93.000000       15  7.50\n",
      "移动开发                 261   65.250000        7  1.75\n",
      "编程语言与程序设计      4280  178.333333      192  8.00\n",
      "网页制作/Web技术         345  115.000000       15  5.00\n"
     ]
    }
   ],
   "source": [
    "import pandas as pd\n",
    "\n",
    "pd.set_option('display.max_columns',500)\n",
    "pd.set_option('display.width',1000)\n",
    "\n",
    "pd.set_option('display.unicode.east_asian_width',True)\n",
    "df = pd.read_csv('JD.csv',encoding='gbk') # 注意这里，因为列标签名称有中文，必须设置encoding='gbk'\n",
    "\n",
    "df1 = df[['一级分类','二级分类','7天点击量','订单预定']]\n",
    "print(df1.groupby('一级分类').agg(['sum','mean']))"
   ]
  },
  {
   "cell_type": "code",
   "execution_count": 21,
   "metadata": {},
   "outputs": [
    {
     "name": "stdout",
     "output_type": "stream",
     "text": [
      "                                7天点击量             订单预定           \n",
      "                                      sum        mean      sum       mean\n",
      "一级分类           二级分类                                              \n",
      "数据库             Oracle              58   58.000000        2   2.000000\n",
      "                   SQL                128  128.000000       13  13.000000\n",
      "移动开发           Android            261   65.250000        7   1.750000\n",
      "编程语言与程序设计 ASP.NET             87   43.500000        2   1.000000\n",
      "                   C#                 314  104.666667       12   4.000000\n",
      "                   C++/C语言          724  120.666667       28   4.666667\n",
      "                   JSP/JavaWeb        157   78.500000        1   0.500000\n",
      "                   Java               408  102.000000       16   4.000000\n",
      "                   PHP                113   56.500000        1   0.500000\n",
      "                   Python            2449  612.250000      132  33.000000\n",
      "                   Visual Basic        28   28.000000        0   0.000000\n",
      "网页制作/Web技术   HTML               188  188.000000        8   8.000000\n",
      "                   JavaScript         100  100.000000        7   7.000000\n",
      "                   WEB前端             57   57.000000        0   0.000000\n"
     ]
    }
   ],
   "source": [
    "df1 = df[['一级分类','二级分类','7天点击量','订单预定']]\n",
    "print(df1.groupby(['一级分类','二级分类']).agg(['sum','mean']))"
   ]
  },
  {
   "cell_type": "markdown",
   "metadata": {},
   "source": [
    "针对不同的列使用不同的聚合函数"
   ]
  },
  {
   "cell_type": "code",
   "execution_count": 22,
   "metadata": {},
   "outputs": [
    {
     "name": "stdout",
     "output_type": "stream",
     "text": [
      "                   7天点击量             订单预定\n",
      "                         sum        mean      sum\n",
      "一级分类                                         \n",
      "数据库                   186   93.000000       15\n",
      "移动开发                 261   65.250000        7\n",
      "编程语言与程序设计      4280  178.333333      192\n",
      "网页制作/Web技术         345  115.000000       15\n"
     ]
    }
   ],
   "source": [
    "import pandas as pd\n",
    "\n",
    "pd.set_option('display.max_columns',500)\n",
    "pd.set_option('display.width',1000)\n",
    "\n",
    "pd.set_option('display.unicode.east_asian_width',True)\n",
    "df = pd.read_csv('JD.csv',encoding='gbk') # 注意这里，因为列标签名称有中文，必须设置encoding='gbk'\n",
    "\n",
    "df1 = df[['一级分类','二级分类','7天点击量','订单预定']]\n",
    "print(df1.groupby('一级分类').agg({'7天点击量':['sum','mean'],'订单预定':['sum']}))"
   ]
  },
  {
   "cell_type": "markdown",
   "metadata": {},
   "source": [
    "通过字定义函数实现分组统计"
   ]
  },
  {
   "cell_type": "code",
   "execution_count": 26,
   "metadata": {},
   "outputs": [
    {
     "name": "stdout",
     "output_type": "stream",
     "text": [
      "                       宝贝标题  买家实际支付金额\n",
      "<lambda>  C语言项目开发实战入门               NaN\n",
      "mean                        NaN           81.7172\n",
      "sum                         NaN         4085.8600\n"
     ]
    }
   ],
   "source": [
    "import pandas as pd\n",
    "df = pd.read_excel('1月.xlsx')\n",
    "# x 是“宝贝标题”对应的列\n",
    "# value_counts函数用于Series对象中的每个值进行计数并且排序\n",
    "\n",
    "max1 = lambda x: x.value_counts(dropna=False).index[0]\n",
    "\n",
    "df1=df.agg({'宝贝标题':[max1],\n",
    "             '买家实际支付金额':['sum','mean']})\n",
    "print(df1)"
   ]
  },
  {
   "cell_type": "markdown",
   "metadata": {},
   "source": [
    "在输出结果中，lamba函数名称<lambda>被输出了，那么如何去掉，方法是使用__name__方法修改函数名称。"
   ]
  },
  {
   "cell_type": "code",
   "execution_count": 27,
   "metadata": {},
   "outputs": [
    {
     "name": "stdout",
     "output_type": "stream",
     "text": [
      "                       宝贝标题  买家实际支付金额\n",
      "mean                        NaN           81.7172\n",
      "sum                         NaN         4085.8600\n",
      "购买次数  C语言项目开发实战入门               NaN\n"
     ]
    }
   ],
   "source": [
    "import pandas as pd\n",
    "df = pd.read_excel('1月.xlsx')\n",
    "# x 是“宝贝标题”对应的列\n",
    "# value_counts函数用于Series对象中的每个值进行计数并且排序\n",
    "\n",
    "max1 = lambda x: x.value_counts(dropna=False).index[0]\n",
    "max1.__name__=\"购买次数\"\n",
    "df1=df.agg({'宝贝标题':[max1],\n",
    "             '买家实际支付金额':['sum','mean']})\n",
    "print(df1)"
   ]
  },
  {
   "cell_type": "markdown",
   "metadata": {},
   "source": [
    "## 4.3.4 通过字典和series对象进行分组统计\n",
    "\n",
    "### 4.3.4.1 通过字典进行分组统计\n",
    "\n",
    "首先创建字典建立的对应关系，然后将字典传递给groupby函数，从而实现数据分组统计。\n",
    "\n",
    "统计各地区的销量，业务要求： 将“北京”“上海”“广州”三个一线城市放在一起进行统计，那么首先创建一个字典将“上海出库销量”“北京出库销量”“广州出库销量”都对应“北上广”，然后使用groupby方法进行分组统计。"
   ]
  },
  {
   "cell_type": "code",
   "execution_count": 30,
   "metadata": {},
   "outputs": [
    {
     "name": "stdout",
     "output_type": "stream",
     "text": [
      "                                  北上广  成都  武汉  西安\n",
      "商品名称                                                  \n",
      "零基础学Python（全彩版）            1991   284   246   152\n",
      "Python从入门到项目实践（全彩版）     798   113    92    63\n",
      "Python项目开发案例集锦（全彩版）     640   115    88    57\n",
      "Python编程锦囊（全彩版）             457    85    65    47\n",
      "零基础学C语言（全彩版）              364    82    63    40\n",
      "SQL即查即用（全彩版）                305    29    25    40\n",
      "零基础学Java（全彩版）               238    48    43    29\n",
      "零基础学C++（全彩版）                223    53    35    23\n",
      "零基础学C#（全彩版）                 146    27    16     7\n",
      "C#项目开发实战入门（全彩版）         135    18    22    12\n"
     ]
    }
   ],
   "source": [
    "import pandas as pd\n",
    "\n",
    "pd.set_option('display.max_columns',500)\n",
    "pd.set_option('display.width',1000)\n",
    "\n",
    "pd.set_option('display.unicode.east_asian_width',True)\n",
    "df = pd.read_csv('JD2.csv',encoding='gbk') # 注意这里，因为列标签名称有中文，必须设置encoding='gbk'\n",
    "df = df.set_index(['商品名称'])\n",
    "dict1 ={'上海出库销量':'北上广',\n",
    "       '北京出库销量':'北上广',\n",
    "       '广州出库销量':'北上广',\n",
    "      '成都出库销量':'成都',\n",
    "        '武汉出库销量':'武汉',\n",
    "        '西安出库销量':'西安'}\n",
    "df1=df.groupby(dict1,axis=1).sum()\n",
    "print(df1)"
   ]
  },
  {
   "cell_type": "markdown",
   "metadata": {},
   "source": [
    "### 4.3.4.2 通过Series对象进行分组统计\n",
    "\n",
    "通过Series对象进行分组统计时，它与字典的方法类似。"
   ]
  },
  {
   "cell_type": "code",
   "execution_count": 31,
   "metadata": {},
   "outputs": [],
   "source": [
    "import pandas as pd\n",
    "\n",
    "pd.set_option('display.max_columns',500)\n",
    "pd.set_option('display.width',1000)\n",
    "\n",
    "pd.set_option('display.unicode.east_asian_width',True)\n",
    "df = pd.read_csv('JD2.csv',encoding='gbk') # 注意这里，因为列标签名称有中文，必须设置encoding='gbk'\n",
    "df = df.set_index(['商品名称'])"
   ]
  },
  {
   "cell_type": "code",
   "execution_count": 32,
   "metadata": {},
   "outputs": [
    {
     "name": "stdout",
     "output_type": "stream",
     "text": [
      "上海出库销量    北上广\n",
      "北京出库销量    北上广\n",
      "广州出库销量    北上广\n",
      "成都出库销量      成都\n",
      "武汉出库销量      武汉\n",
      "西安出库销量      西安\n",
      "dtype: object\n"
     ]
    }
   ],
   "source": [
    "data ={'上海出库销量':'北上广',\n",
    "       '北京出库销量':'北上广',\n",
    "       '广州出库销量':'北上广',\n",
    "      '成都出库销量':'成都',\n",
    "        '武汉出库销量':'武汉',\n",
    "        '西安出库销量':'西安'}\n",
    "s1 = pd.Series(data)\n",
    "print(s1)"
   ]
  },
  {
   "cell_type": "code",
   "execution_count": 33,
   "metadata": {},
   "outputs": [
    {
     "name": "stdout",
     "output_type": "stream",
     "text": [
      "                                  北上广  成都  武汉  西安\n",
      "商品名称                                                  \n",
      "零基础学Python（全彩版）            1991   284   246   152\n",
      "Python从入门到项目实践（全彩版）     798   113    92    63\n",
      "Python项目开发案例集锦（全彩版）     640   115    88    57\n",
      "Python编程锦囊（全彩版）             457    85    65    47\n",
      "零基础学C语言（全彩版）              364    82    63    40\n",
      "SQL即查即用（全彩版）                305    29    25    40\n",
      "零基础学Java（全彩版）               238    48    43    29\n",
      "零基础学C++（全彩版）                223    53    35    23\n",
      "零基础学C#（全彩版）                 146    27    16     7\n",
      "C#项目开发实战入门（全彩版）         135    18    22    12\n"
     ]
    }
   ],
   "source": [
    "#将Series对象传递给groupby函数实现数据分组统计\n",
    "df1 = df.groupby(s1,axis=1).sum()\n",
    "print(df1)"
   ]
  },
  {
   "cell_type": "code",
   "execution_count": null,
   "metadata": {},
   "outputs": [],
   "source": []
  }
 ],
 "metadata": {
  "kernelspec": {
   "display_name": "Python 3",
   "language": "python",
   "name": "python3"
  },
  "language_info": {
   "codemirror_mode": {
    "name": "ipython",
    "version": 3
   },
   "file_extension": ".py",
   "mimetype": "text/x-python",
   "name": "python",
   "nbconvert_exporter": "python",
   "pygments_lexer": "ipython3",
   "version": "3.7.1"
  }
 },
 "nbformat": 4,
 "nbformat_minor": 2
}
